{
 "cells": [
  {
   "cell_type": "code",
   "execution_count": 1,
   "metadata": {
    "collapsed": false
   },
   "outputs": [
    {
     "name": "stderr",
     "output_type": "stream",
     "text": [
      "Using TensorFlow backend.\n"
     ]
    }
   ],
   "source": [
    "import os\n",
    "import glob\n",
    "import keras\n",
    "\n",
    "import numpy as np\n",
    "import matplotlib.pyplot as plt\n",
    "\n",
    "from PIL import Image\n",
    "from skimage import transform\n",
    "from keras.models import Sequential\n",
    "from keras.layers import Conv2D, MaxPooling2D, BatchNormalization\n",
    "from keras.layers import Activation, Dropout, Flatten, Dense\n",
    "from keras.callbacks import EarlyStopping, ModelCheckpoint\n",
    "from keras.preprocessing.image import ImageDataGenerator\n",
    "from keras.optimizers import Adam"
   ]
  },
  {
   "cell_type": "code",
   "execution_count": 2,
   "metadata": {
    "collapsed": true
   },
   "outputs": [],
   "source": [
    "num_final_hidden_layer = 32\n",
    "num_classes = 2\n",
    "batch_size = 32\n",
    "\n",
    "checkpoint_dir = '../experiments/baseline-celeba'\n",
    "if not os.path.isdir(checkpoint_dir):\n",
    "    os.makedirs(checkpoint_dir)"
   ]
  },
  {
   "cell_type": "code",
   "execution_count": 3,
   "metadata": {
    "collapsed": false
   },
   "outputs": [],
   "source": [
    "model = Sequential()\n",
    "model.add(Conv2D(\n",
    "        32, kernel_size=4, strides=2, activation='relu',\n",
    "        input_shape=(128, 128, 3), padding='same'))\n",
    "model.add(BatchNormalization(axis=-1, momentum=0.1, epsilon=1e-5))\n",
    "model.add(Conv2D(64, kernel_size=4, strides=2, activation='relu', padding='same'))\n",
    "model.add(BatchNormalization(axis=-1, momentum=0.1, epsilon=1e-5))\n",
    "model.add(Conv2D(128, kernel_size=4, strides=2, activation='relu', padding='same'))\n",
    "model.add(BatchNormalization(axis=-1, momentum=0.1, epsilon=1e-5))\n",
    "model.add(Conv2D(256, kernel_size=4, strides=2, activation='relu', padding='same'))\n",
    "model.add(BatchNormalization(axis=-1, momentum=0.1, epsilon=1e-5))\n",
    "model.add(Conv2D(512, kernel_size=4, strides=2, activation='relu', padding='same'))\n",
    "model.add(BatchNormalization(axis=-1, momentum=0.1, epsilon=1e-5))\n",
    "model.add(Conv2D(num_final_hidden_layer, kernel_size=4))\n",
    "model.add(Flatten())\n",
    "model.add(Dense(num_classes, activation='softmax'))"
   ]
  },
  {
   "cell_type": "code",
   "execution_count": 4,
   "metadata": {
    "collapsed": false,
    "scrolled": false
   },
   "outputs": [],
   "source": [
    "stopping = EarlyStopping(monitor='val_acc', patience=3, restore_best_weights=True)\n",
    "checkpoint = ModelCheckpoint(\n",
    "    os.path.join(checkpoint_dir, 'checkpoint'),\n",
    "    monitor='val_acc', save_best_only=True)\n",
    "model.compile(optimizer=Adam(lr=1e-5),\n",
    "              loss='sparse_categorical_crossentropy',\n",
    "              metrics=['accuracy'])"
   ]
  },
  {
   "cell_type": "code",
   "execution_count": 5,
   "metadata": {
    "collapsed": false,
    "scrolled": true
   },
   "outputs": [
    {
     "name": "stdout",
     "output_type": "stream",
     "text": [
      "Found 182338 images belonging to 2 classes.\n",
      "Found 10130 images belonging to 2 classes.\n",
      "Found 10131 images belonging to 2 classes.\n"
     ]
    }
   ],
   "source": [
    "datagen = ImageDataGenerator(rescale=1./255)\n",
    "train_datagen = datagen.flow_from_directory(\n",
    "        '/home/supervised-vae/data/celeba/train',\n",
    "        target_size=(128, 128),\n",
    "        batch_size=batch_size,\n",
    "        class_mode='binary')\n",
    "\n",
    "val_datagen = datagen.flow_from_directory(\n",
    "        '/home/supervised-vae/data/celeba/validation',\n",
    "        target_size=(128, 128),\n",
    "        batch_size=batch_size,\n",
    "        class_mode='binary')\n",
    "\n",
    "test_datagen = datagen.flow_from_directory(\n",
    "        '/home/supervised-vae/data/celeba/test',\n",
    "        target_size=(128, 128),\n",
    "        batch_size=batch_size,\n",
    "        class_mode='binary')"
   ]
  },
  {
   "cell_type": "code",
   "execution_count": 6,
   "metadata": {
    "collapsed": false
   },
   "outputs": [
    {
     "name": "stdout",
     "output_type": "stream",
     "text": [
      "Epoch 1/100\n",
      "5699/5699 [==============================] - 3394s 596ms/step - loss: 0.1993 - acc: 0.9202 - val_loss: 0.1522 - val_acc: 0.9436\n",
      "Epoch 2/100\n",
      "5699/5699 [==============================] - 322s 56ms/step - loss: 0.0840 - acc: 0.9687 - val_loss: 0.1641 - val_acc: 0.9405\n",
      "Epoch 3/100\n",
      "5699/5699 [==============================] - 325s 57ms/step - loss: 0.0432 - acc: 0.9853 - val_loss: 0.1501 - val_acc: 0.9521\n",
      "Epoch 4/100\n",
      "5699/5699 [==============================] - 324s 57ms/step - loss: 0.0196 - acc: 0.9944 - val_loss: 0.1411 - val_acc: 0.9587\n",
      "Epoch 5/100\n",
      "5699/5699 [==============================] - 326s 57ms/step - loss: 0.0093 - acc: 0.9977 - val_loss: 0.2351 - val_acc: 0.9410\n",
      "Epoch 6/100\n",
      "5699/5699 [==============================] - 324s 57ms/step - loss: 0.0056 - acc: 0.9986 - val_loss: 0.1642 - val_acc: 0.9583\n",
      "Epoch 7/100\n",
      "5699/5699 [==============================] - 324s 57ms/step - loss: 0.0037 - acc: 0.9990 - val_loss: 0.2019 - val_acc: 0.9576\n"
     ]
    }
   ],
   "source": [
    "history = model.fit_generator(\n",
    "    train_datagen, validation_data=val_datagen,\n",
    "    callbacks=[stopping, checkpoint], epochs=100,\n",
    "    steps_per_epoch=len(train_datagen),\n",
    "    validation_steps=len(val_datagen))"
   ]
  },
  {
   "cell_type": "code",
   "execution_count": 7,
   "metadata": {
    "collapsed": false
   },
   "outputs": [
    {
     "data": {
      "text/plain": [
       "[0.15172429602320525, 0.9573586023509261]"
      ]
     },
     "execution_count": 7,
     "metadata": {},
     "output_type": "execute_result"
    }
   ],
   "source": [
    "result = model.evaluate_generator(test_datagen, steps=len(test_datagen))\n",
    "result"
   ]
  }
 ],
 "metadata": {
  "kernelspec": {
   "display_name": "Python 3",
   "language": "python",
   "name": "python3"
  },
  "language_info": {
   "codemirror_mode": {
    "name": "ipython",
    "version": 3
   },
   "file_extension": ".py",
   "mimetype": "text/x-python",
   "name": "python",
   "nbconvert_exporter": "python",
   "pygments_lexer": "ipython3",
   "version": "3.5.3"
  }
 },
 "nbformat": 4,
 "nbformat_minor": 2
}
