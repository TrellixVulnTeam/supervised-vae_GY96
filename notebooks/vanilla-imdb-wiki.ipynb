{
 "cells": [
  {
   "cell_type": "code",
   "execution_count": 6,
   "metadata": {
    "collapsed": false
   },
   "outputs": [],
   "source": [
    "import os\n",
    "import glob\n",
    "import keras\n",
    "\n",
    "import numpy as np\n",
    "import matplotlib.pyplot as plt\n",
    "\n",
    "from PIL import Image\n",
    "from skimage import transform\n",
    "from keras.models import Sequential\n",
    "from keras.layers import Conv2D, MaxPooling2D, BatchNormalization\n",
    "from keras.layers import Activation, Dropout, Flatten, Dense\n",
    "from keras.callbacks import EarlyStopping, ModelCheckpoint\n",
    "from keras.preprocessing.image import ImageDataGenerator\n",
    "from keras.optimizers import Adam"
   ]
  },
  {
   "cell_type": "code",
   "execution_count": 7,
   "metadata": {
    "collapsed": true
   },
   "outputs": [],
   "source": [
    "num_final_hidden_layer = 32\n",
    "num_classes = 2\n",
    "batch_size = 32\n",
    "\n",
    "checkpoint_dir = '../experiments/baseline'\n",
    "if not os.path.isdir(checkpoint_dir):\n",
    "    os.makedirs(checkpoint_dir)"
   ]
  },
  {
   "cell_type": "code",
   "execution_count": 8,
   "metadata": {
    "collapsed": false
   },
   "outputs": [],
   "source": [
    "model = Sequential()\n",
    "model.add(Conv2D(\n",
    "        32, kernel_size=4, strides=2, activation='relu',\n",
    "        input_shape=(128, 128, 3), padding='same'))\n",
    "model.add(BatchNormalization(axis=-1, momentum=0.1, epsilon=1e-5))\n",
    "model.add(Conv2D(64, kernel_size=4, strides=2, activation='relu', padding='same'))\n",
    "model.add(BatchNormalization(axis=-1, momentum=0.1, epsilon=1e-5))\n",
    "model.add(Conv2D(128, kernel_size=4, strides=2, activation='relu', padding='same'))\n",
    "model.add(BatchNormalization(axis=-1, momentum=0.1, epsilon=1e-5))\n",
    "model.add(Conv2D(256, kernel_size=4, strides=2, activation='relu', padding='same'))\n",
    "model.add(BatchNormalization(axis=-1, momentum=0.1, epsilon=1e-5))\n",
    "model.add(Conv2D(512, kernel_size=4, strides=2, activation='relu', padding='same'))\n",
    "model.add(BatchNormalization(axis=-1, momentum=0.1, epsilon=1e-5))\n",
    "model.add(Conv2D(num_final_hidden_layer, kernel_size=4))\n",
    "model.add(Flatten())\n",
    "model.add(Dense(num_classes, activation='softmax'))"
   ]
  },
  {
   "cell_type": "code",
   "execution_count": 9,
   "metadata": {
    "collapsed": false,
    "scrolled": false
   },
   "outputs": [],
   "source": [
    "stopping = EarlyStopping(monitor='val_acc', patience=3, restore_best_weights=True)\n",
    "checkpoint = ModelCheckpoint(\n",
    "    os.path.join(checkpoint_dir, 'checkpoint'),\n",
    "    monitor='val_acc', save_best_only=True)\n",
    "model.compile(optimizer=Adam(lr=1e-5),\n",
    "              loss='sparse_categorical_crossentropy',\n",
    "              metrics=['accuracy'])"
   ]
  },
  {
   "cell_type": "code",
   "execution_count": 10,
   "metadata": {
    "collapsed": false,
    "scrolled": true
   },
   "outputs": [
    {
     "name": "stdout",
     "output_type": "stream",
     "text": [
      "Found 460749 images belonging to 2 classes.\n",
      "Found 25597 images belonging to 2 classes.\n",
      "Found 25600 images belonging to 2 classes.\n"
     ]
    }
   ],
   "source": [
    "datagen = ImageDataGenerator(rescale=1./255)\n",
    "train_datagen = datagen.flow_from_directory(\n",
    "        '/home/supervised-vae/data/processed/train',\n",
    "        target_size=(128, 128),\n",
    "        batch_size=batch_size,\n",
    "        class_mode='binary')\n",
    "\n",
    "val_datagen = datagen.flow_from_directory(\n",
    "        '/home/supervised-vae/data/processed/validation',\n",
    "        target_size=(128, 128),\n",
    "        batch_size=batch_size,\n",
    "        class_mode='binary')\n",
    "\n",
    "test_datagen = datagen.flow_from_directory(\n",
    "        '/home/supervised-vae/data/processed/test',\n",
    "        target_size=(128, 128),\n",
    "        batch_size=batch_size,\n",
    "        class_mode='binary')"
   ]
  },
  {
   "cell_type": "code",
   "execution_count": 15,
   "metadata": {
    "collapsed": false
   },
   "outputs": [
    {
     "name": "stdout",
     "output_type": "stream",
     "text": [
      "Epoch 1/100\n",
      "14399/14399 [==============================] - 1571s 109ms/step - loss: 0.5409 - acc: 0.7393 - val_loss: 0.5540 - val_acc: 0.7367\n",
      "Epoch 2/100\n",
      "14399/14399 [==============================] - 1574s 109ms/step - loss: 0.5108 - acc: 0.7573 - val_loss: 0.5821 - val_acc: 0.7207\n",
      "Epoch 3/100\n",
      "14399/14399 [==============================] - 1575s 109ms/step - loss: 0.4856 - acc: 0.7712 - val_loss: 0.5720 - val_acc: 0.7274\n",
      "Epoch 4/100\n",
      "14399/14399 [==============================] - 1579s 110ms/step - loss: 0.4618 - acc: 0.7820 - val_loss: 0.5879 - val_acc: 0.7181\n"
     ]
    }
   ],
   "source": [
    "history = model.fit_generator(\n",
    "    train_datagen, validation_data=val_datagen,\n",
    "    callbacks=[stopping, checkpoint], epochs=100,\n",
    "    steps_per_epoch=len(train_datagen),\n",
    "    validation_steps=len(val_datagen))"
   ]
  },
  {
   "cell_type": "code",
   "execution_count": 16,
   "metadata": {
    "collapsed": false
   },
   "outputs": [
    {
     "data": {
      "text/plain": [
       "[0.5511836166679859, 0.7396484375]"
      ]
     },
     "execution_count": 16,
     "metadata": {},
     "output_type": "execute_result"
    }
   ],
   "source": [
    "result = model.evaluate_generator(test_datagen, steps=len(test_datagen))\n",
    "result"
   ]
  }
 ],
 "metadata": {
  "kernelspec": {
   "display_name": "Python 3",
   "language": "python",
   "name": "python3"
  },
  "language_info": {
   "codemirror_mode": {
    "name": "ipython",
    "version": 3
   },
   "file_extension": ".py",
   "mimetype": "text/x-python",
   "name": "python",
   "nbconvert_exporter": "python",
   "pygments_lexer": "ipython3",
   "version": "3.5.3"
  }
 },
 "nbformat": 4,
 "nbformat_minor": 2
}
