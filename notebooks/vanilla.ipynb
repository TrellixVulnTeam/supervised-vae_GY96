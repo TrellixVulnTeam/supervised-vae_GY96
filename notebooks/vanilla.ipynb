{
 "cells": [
  {
   "cell_type": "code",
   "execution_count": 1,
   "metadata": {},
   "outputs": [],
   "source": [
    "import os"
   ]
  },
  {
   "cell_type": "code",
   "execution_count": 2,
   "metadata": {},
   "outputs": [
    {
     "name": "stdout",
     "output_type": "stream",
     "text": [
      "/home/supervised-vae/notebooks\n"
     ]
    }
   ],
   "source": [
    "print (os.getcwd())"
   ]
  },
  {
   "cell_type": "code",
   "execution_count": 7,
   "metadata": {},
   "outputs": [],
   "source": [
    "from PIL import Image\n",
    "import glob\n",
    "\n",
    "import numpy as np\n",
    "from skimage import transform\n",
    "\n",
    "import matplotlib.pyplot as plt"
   ]
  },
  {
   "cell_type": "code",
   "execution_count": 10,
   "metadata": {},
   "outputs": [
    {
     "name": "stdout",
     "output_type": "stream",
     "text": [
      "(117, 117, 3)\n",
      "(374, 373, 3)\n",
      "(113, 113, 3)\n",
      "(500, 400, 3)\n"
     ]
    }
   ],
   "source": [
    "for i, filename in enumerate(glob.glob('/home/supervised-vae/data/processed/train/male/*')):\n",
    "    if i > 3:\n",
    "        break\n",
    "    im = Image.open(filename)\n",
    "    im = np.asarray(im)\n",
    "    print (im.shape)"
   ]
  },
  {
   "cell_type": "code",
   "execution_count": 19,
   "metadata": {},
   "outputs": [],
   "source": [
    "## train:\n",
    "## female: 181502\n",
    "## male: 279249\n",
    "## test:\n",
    "## female: 10086\n",
    "## male: 15516\n",
    "\n",
    "num_final_hidden_layer = 32\n",
    "num_classes = 2\n",
    "batch_size = 32"
   ]
  },
  {
   "cell_type": "code",
   "execution_count": 1,
   "metadata": {},
   "outputs": [
    {
     "name": "stderr",
     "output_type": "stream",
     "text": [
      "Using TensorFlow backend.\n"
     ]
    }
   ],
   "source": [
    "import keras"
   ]
  },
  {
   "cell_type": "code",
   "execution_count": 30,
   "metadata": {},
   "outputs": [],
   "source": [
    "from keras.models import Sequential\n",
    "from keras.layers import Conv2D, MaxPooling2D, BatchNormalization\n",
    "from keras.layers import Activation, Dropout, Flatten, Dense\n",
    "\n",
    "model = Sequential()\n",
    "model.add(Conv2D(32, kernel_size=(4, 4), strides=(2, 2), activation='relu', input_shape=(128, 128, 3), padding='same'))\n",
    "model.add(BatchNormalization(axis=-1, momentum=0.1, epsilon=1e-5))\n",
    "model.add(Conv2D(64, kernel_size=(4, 4), strides=(2, 2), activation='relu', padding='same'))\n",
    "model.add(BatchNormalization(axis=-1, momentum=0.1, epsilon=1e-5))\n",
    "model.add(Conv2D(128, kernel_size=(4, 4), strides=(2, 2), activation='relu', padding='same'))\n",
    "model.add(BatchNormalization(axis=-1, momentum=0.1, epsilon=1e-5))\n",
    "model.add(Conv2D(256, kernel_size=(4, 4), strides=(2, 2), activation='relu', padding='same'))\n",
    "model.add(BatchNormalization(axis=-1, momentum=0.1, epsilon=1e-5))\n",
    "model.add(Conv2D(512, kernel_size=(4, 4), strides=(2, 2), activation='relu', padding='same'))\n",
    "model.add(BatchNormalization(axis=-1, momentum=0.1, epsilon=1e-5))\n",
    "model.add(Conv2D(num_final_hidden_layer, kernel_size=(4, 4)))\n",
    "model.add(Flatten())\n",
    "model.add(Dense(num_classes, activation='softmax'))\n"
   ]
  },
  {
   "cell_type": "code",
   "execution_count": 31,
   "metadata": {},
   "outputs": [],
   "source": [
    "model.compile(optimizer='adam',\n",
    "              loss='sparse_categorical_crossentropy',\n",
    "              metrics=['accuracy'])"
   ]
  },
  {
   "cell_type": "code",
   "execution_count": 4,
   "metadata": {},
   "outputs": [],
   "source": [
    "from keras.preprocessing.image import ImageDataGenerator"
   ]
  },
  {
   "cell_type": "code",
   "execution_count": 11,
   "metadata": {},
   "outputs": [],
   "source": [
    "train_datagen = ImageDataGenerator()"
   ]
  },
  {
   "cell_type": "code",
   "execution_count": 32,
   "metadata": {},
   "outputs": [
    {
     "name": "stdout",
     "output_type": "stream",
     "text": [
      "Found 460749 images belonging to 2 classes.\n"
     ]
    }
   ],
   "source": [
    "train_generator = train_datagen.flow_from_directory(\n",
    "        '/home/supervised-vae/data/processed/train',\n",
    "        target_size=(128, 128),  # all images will be resized to\n",
    "        batch_size=batch_size,\n",
    "        class_mode='binary')"
   ]
  },
  {
   "cell_type": "code",
   "execution_count": 33,
   "metadata": {},
   "outputs": [
    {
     "name": "stdout",
     "output_type": "stream",
     "text": [
      "Epoch 1/10\n",
      "62/62 [==============================] - 52s 833ms/step - loss: 2.8292 - acc: 0.5857\n",
      "Epoch 2/10\n",
      "62/62 [==============================] - 41s 662ms/step - loss: 1.3913 - acc: 0.5872\n",
      "Epoch 3/10\n",
      "62/62 [==============================] - 42s 682ms/step - loss: 1.0825 - acc: 0.6099\n",
      "Epoch 4/10\n",
      "62/62 [==============================] - 41s 665ms/step - loss: 1.0238 - acc: 0.6260\n",
      "Epoch 5/10\n",
      "62/62 [==============================] - 42s 675ms/step - loss: 0.9478 - acc: 0.6416\n",
      "Epoch 6/10\n",
      "62/62 [==============================] - 42s 670ms/step - loss: 0.9677 - acc: 0.6265\n",
      "Epoch 7/10\n",
      "62/62 [==============================] - 42s 675ms/step - loss: 0.7756 - acc: 0.6462\n",
      "Epoch 8/10\n",
      "62/62 [==============================] - 42s 674ms/step - loss: 0.6770 - acc: 0.6673\n",
      "Epoch 9/10\n",
      "62/62 [==============================] - 41s 656ms/step - loss: 0.6592 - acc: 0.6517\n",
      "Epoch 10/10\n",
      "62/62 [==============================] - 39s 631ms/step - loss: 0.6478 - acc: 0.6794\n"
     ]
    },
    {
     "data": {
      "text/plain": [
       "<keras.callbacks.History at 0x7f24984fd668>"
      ]
     },
     "execution_count": 33,
     "metadata": {},
     "output_type": "execute_result"
    }
   ],
   "source": [
    "model.fit_generator(\n",
    "        train_generator,\n",
    "        steps_per_epoch=2000 // batch_size,\n",
    "        epochs=10)"
   ]
  },
  {
   "cell_type": "code",
   "execution_count": null,
   "metadata": {},
   "outputs": [],
   "source": []
  }
 ],
 "metadata": {
  "kernelspec": {
   "display_name": "Python 3",
   "language": "python",
   "name": "python3"
  },
  "language_info": {
   "codemirror_mode": {
    "name": "ipython",
    "version": 3
   },
   "file_extension": ".py",
   "mimetype": "text/x-python",
   "name": "python",
   "nbconvert_exporter": "python",
   "pygments_lexer": "ipython3",
   "version": "3.5.3"
  }
 },
 "nbformat": 4,
 "nbformat_minor": 2
}
