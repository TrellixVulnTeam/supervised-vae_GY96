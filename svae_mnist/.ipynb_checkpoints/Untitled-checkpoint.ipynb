{
 "cells": [
  {
   "cell_type": "code",
   "execution_count": 29,
   "metadata": {
    "ExecuteTime": {
     "end_time": "2018-10-23T22:02:15.688253Z",
     "start_time": "2018-10-23T22:02:15.197402Z"
    },
    "collapsed": true
   },
   "outputs": [],
   "source": [
    "from scipy.io import loadmat\n",
    "import numpy as np\n",
    "import pandas as pd"
   ]
  },
  {
   "cell_type": "code",
   "execution_count": 2,
   "metadata": {
    "ExecuteTime": {
     "end_time": "2018-10-23T21:59:15.003888Z",
     "start_time": "2018-10-23T21:59:13.584702Z"
    },
    "collapsed": true
   },
   "outputs": [],
   "source": [
    "mat = loadmat('../data/raw/wiki_crop/wiki.mat')"
   ]
  },
  {
   "cell_type": "code",
   "execution_count": 7,
   "metadata": {
    "ExecuteTime": {
     "end_time": "2018-10-23T22:00:14.962596Z",
     "start_time": "2018-10-23T22:00:14.956620Z"
    }
   },
   "outputs": [
    {
     "data": {
      "text/plain": [
       "dict_keys(['__header__', '__version__', '__globals__', 'wiki'])"
      ]
     },
     "execution_count": 7,
     "metadata": {},
     "output_type": "execute_result"
    }
   ],
   "source": [
    "mat.keys()"
   ]
  },
  {
   "cell_type": "code",
   "execution_count": 18,
   "metadata": {
    "ExecuteTime": {
     "end_time": "2018-10-23T22:01:06.264510Z",
     "start_time": "2018-10-23T22:01:06.256209Z"
    }
   },
   "outputs": [
    {
     "data": {
      "text/plain": [
       "(array([[723671, 703186, 711677, ..., 720620, 723893, 713846]], dtype=int32), array([[2009, 1964, 2008, ..., 2013, 2011, 2008]], dtype=uint16), array([[array(['17/10000217_1981-05-05_2009.jpg'], dtype='<U31'),\n",
       "        array(['48/10000548_1925-04-04_1964.jpg'], dtype='<U31'),\n",
       "        array(['12/100012_1948-07-03_2008.jpg'], dtype='<U29'), ...,\n",
       "        array(['09/9998109_1972-12-27_2013.jpg'], dtype='<U30'),\n",
       "        array(['00/9999400_1981-12-13_2011.jpg'], dtype='<U30'),\n",
       "        array(['80/999980_1954-06-11_2008.jpg'], dtype='<U29')]],\n",
       "      dtype=object), array([[1., 1., 1., ..., 1., 1., 0.]]), array([[array(['Sami Jauhojärvi'], dtype='<U15'),\n",
       "        array(['Dettmar Cramer'], dtype='<U14'),\n",
       "        array(['Marc Okrand'], dtype='<U11'), ...,\n",
       "        array(['Michael Wiesinger'], dtype='<U17'),\n",
       "        array(['Johann Grugger'], dtype='<U14'),\n",
       "        array(['Greta Van Susteren'], dtype='<U18')]], dtype=object), array([[array([[111.29109473, 111.29109473, 252.66993082, 252.66993082]]),\n",
       "        array([[252.4833023 , 126.68165115, 354.53192596, 228.73027481]]),\n",
       "        array([[113.52, 169.84, 366.08, 422.4 ]]), ...,\n",
       "        array([[169.88839786,  74.31669472, 235.2534231 , 139.68171997]]),\n",
       "        array([[1, 1, 1, 1]], dtype=uint8),\n",
       "        array([[ 92.72633235,  62.0435549 , 230.12083087, 199.43805342]])]],\n",
       "      dtype=object), array([[4.30096239, 2.6456395 , 4.32932883, ..., 3.49430317,       -inf,\n",
       "        5.48691655]]), array([[       nan, 1.94924791,        nan, ...,        nan,        nan,\n",
       "               nan]]))"
      ]
     },
     "execution_count": 18,
     "metadata": {},
     "output_type": "execute_result"
    }
   ],
   "source": [
    "mat['wiki'][0][0]"
   ]
  },
  {
   "cell_type": "code",
   "execution_count": 93,
   "metadata": {
    "ExecuteTime": {
     "end_time": "2018-10-23T22:41:15.678311Z",
     "start_time": "2018-10-23T22:41:15.458627Z"
    }
   },
   "outputs": [
    {
     "data": {
      "text/html": [
       "<div>\n",
       "<style>\n",
       "    .dataframe thead tr:only-child th {\n",
       "        text-align: right;\n",
       "    }\n",
       "\n",
       "    .dataframe thead th {\n",
       "        text-align: left;\n",
       "    }\n",
       "\n",
       "    .dataframe tbody tr th {\n",
       "        vertical-align: top;\n",
       "    }\n",
       "</style>\n",
       "<table border=\"1\" class=\"dataframe\">\n",
       "  <thead>\n",
       "    <tr style=\"text-align: right;\">\n",
       "      <th></th>\n",
       "      <th>birth_year</th>\n",
       "      <th>filename</th>\n",
       "      <th>gender</th>\n",
       "      <th>name</th>\n",
       "    </tr>\n",
       "  </thead>\n",
       "  <tbody>\n",
       "    <tr>\n",
       "      <th>39101</th>\n",
       "      <td>2014</td>\n",
       "      <td>27/12665227_1960-06-24_2014.jpg</td>\n",
       "      <td>1.0</td>\n",
       "      <td>Barry Rohrssen</td>\n",
       "    </tr>\n",
       "    <tr>\n",
       "      <th>17637</th>\n",
       "      <td>2012</td>\n",
       "      <td>34/18236934_1961-01-03_2012.jpg</td>\n",
       "      <td>NaN</td>\n",
       "      <td>Toshirō Yanagiba</td>\n",
       "    </tr>\n",
       "    <tr>\n",
       "      <th>57793</th>\n",
       "      <td>2002</td>\n",
       "      <td>38/12983238_1921-03-09_2002.jpg</td>\n",
       "      <td>0.0</td>\n",
       "      <td>Evelyn M. Witkin</td>\n",
       "    </tr>\n",
       "    <tr>\n",
       "      <th>17323</th>\n",
       "      <td>1985</td>\n",
       "      <td>57/27283657_1932-11-22_1985.jpg</td>\n",
       "      <td>1.0</td>\n",
       "      <td>John Heaphy Fellowes</td>\n",
       "    </tr>\n",
       "    <tr>\n",
       "      <th>44767</th>\n",
       "      <td>2009</td>\n",
       "      <td>29/2177229_1939-03-24_2009.jpg</td>\n",
       "      <td>1.0</td>\n",
       "      <td>George Michael</td>\n",
       "    </tr>\n",
       "    <tr>\n",
       "      <th>27941</th>\n",
       "      <td>2009</td>\n",
       "      <td>99/24473999_1978-05-12_2009.jpg</td>\n",
       "      <td>1.0</td>\n",
       "      <td>Sied van Riel</td>\n",
       "    </tr>\n",
       "    <tr>\n",
       "      <th>298</th>\n",
       "      <td>2013</td>\n",
       "      <td>69/20070169_1985-12-28_2013.jpg</td>\n",
       "      <td>0.0</td>\n",
       "      <td>Taryn Terrell</td>\n",
       "    </tr>\n",
       "    <tr>\n",
       "      <th>28282</th>\n",
       "      <td>1970</td>\n",
       "      <td>56/9442956_1970-02-25_1970.jpg</td>\n",
       "      <td>1.0</td>\n",
       "      <td>Troy Mallette</td>\n",
       "    </tr>\n",
       "    <tr>\n",
       "      <th>13548</th>\n",
       "      <td>2014</td>\n",
       "      <td>97/41292197_1985-07-27_2014.jpg</td>\n",
       "      <td>1.0</td>\n",
       "      <td>Federico Lardi</td>\n",
       "    </tr>\n",
       "    <tr>\n",
       "      <th>42200</th>\n",
       "      <td>1990</td>\n",
       "      <td>15/46686215_1966-04-14_1990.jpg</td>\n",
       "      <td>1.0</td>\n",
       "      <td>Quentin Riggins</td>\n",
       "    </tr>\n",
       "    <tr>\n",
       "      <th>52281</th>\n",
       "      <td>2011</td>\n",
       "      <td>48/42881348_1964-11-14_2011.jpg</td>\n",
       "      <td>1.0</td>\n",
       "      <td>Gerald Baumgartner</td>\n",
       "    </tr>\n",
       "    <tr>\n",
       "      <th>13350</th>\n",
       "      <td>2014</td>\n",
       "      <td>43/31265743_1997-06-21_2014.jpg</td>\n",
       "      <td>0.0</td>\n",
       "      <td>Rebecca Black</td>\n",
       "    </tr>\n",
       "    <tr>\n",
       "      <th>14674</th>\n",
       "      <td>2009</td>\n",
       "      <td>63/23280863_1976-07-20_2009.jpg</td>\n",
       "      <td>1.0</td>\n",
       "      <td>Daniel Berdichevsky</td>\n",
       "    </tr>\n",
       "    <tr>\n",
       "      <th>20628</th>\n",
       "      <td>2010</td>\n",
       "      <td>98/8231098_1961-01-07_2010.jpg</td>\n",
       "      <td>1.0</td>\n",
       "      <td>Jeff Richmond</td>\n",
       "    </tr>\n",
       "    <tr>\n",
       "      <th>32133</th>\n",
       "      <td>2011</td>\n",
       "      <td>62/2150262_1971-08-29_2011.jpg</td>\n",
       "      <td>0.0</td>\n",
       "      <td>Carla Gugino</td>\n",
       "    </tr>\n",
       "    <tr>\n",
       "      <th>53608</th>\n",
       "      <td>1962</td>\n",
       "      <td>55/15812855_1933-12-06_1962.jpg</td>\n",
       "      <td>1.0</td>\n",
       "      <td>Jiří Tichý</td>\n",
       "    </tr>\n",
       "    <tr>\n",
       "      <th>24025</th>\n",
       "      <td>1964</td>\n",
       "      <td>20/3831520_1940-08-31_1964.jpg</td>\n",
       "      <td>1.0</td>\n",
       "      <td>Alain Calmat</td>\n",
       "    </tr>\n",
       "    <tr>\n",
       "      <th>14504</th>\n",
       "      <td>1992</td>\n",
       "      <td>42/1324742_1972-03-30_1992.jpg</td>\n",
       "      <td>0.0</td>\n",
       "      <td>Mili Avital</td>\n",
       "    </tr>\n",
       "    <tr>\n",
       "      <th>39164</th>\n",
       "      <td>2015</td>\n",
       "      <td>34/22601734_1990-04-25_2015.jpg</td>\n",
       "      <td>1.0</td>\n",
       "      <td>Taylor Walker</td>\n",
       "    </tr>\n",
       "    <tr>\n",
       "      <th>17176</th>\n",
       "      <td>2010</td>\n",
       "      <td>25/17254525_1979-05-18_2010.jpg</td>\n",
       "      <td>1.0</td>\n",
       "      <td>David Nail</td>\n",
       "    </tr>\n",
       "  </tbody>\n",
       "</table>\n",
       "</div>"
      ],
      "text/plain": [
       "       birth_year                         filename  gender  \\\n",
       "39101        2014  27/12665227_1960-06-24_2014.jpg     1.0   \n",
       "17637        2012  34/18236934_1961-01-03_2012.jpg     NaN   \n",
       "57793        2002  38/12983238_1921-03-09_2002.jpg     0.0   \n",
       "17323        1985  57/27283657_1932-11-22_1985.jpg     1.0   \n",
       "44767        2009   29/2177229_1939-03-24_2009.jpg     1.0   \n",
       "27941        2009  99/24473999_1978-05-12_2009.jpg     1.0   \n",
       "298          2013  69/20070169_1985-12-28_2013.jpg     0.0   \n",
       "28282        1970   56/9442956_1970-02-25_1970.jpg     1.0   \n",
       "13548        2014  97/41292197_1985-07-27_2014.jpg     1.0   \n",
       "42200        1990  15/46686215_1966-04-14_1990.jpg     1.0   \n",
       "52281        2011  48/42881348_1964-11-14_2011.jpg     1.0   \n",
       "13350        2014  43/31265743_1997-06-21_2014.jpg     0.0   \n",
       "14674        2009  63/23280863_1976-07-20_2009.jpg     1.0   \n",
       "20628        2010   98/8231098_1961-01-07_2010.jpg     1.0   \n",
       "32133        2011   62/2150262_1971-08-29_2011.jpg     0.0   \n",
       "53608        1962  55/15812855_1933-12-06_1962.jpg     1.0   \n",
       "24025        1964   20/3831520_1940-08-31_1964.jpg     1.0   \n",
       "14504        1992   42/1324742_1972-03-30_1992.jpg     0.0   \n",
       "39164        2015  34/22601734_1990-04-25_2015.jpg     1.0   \n",
       "17176        2010  25/17254525_1979-05-18_2010.jpg     1.0   \n",
       "\n",
       "                       name  \n",
       "39101        Barry Rohrssen  \n",
       "17637      Toshirō Yanagiba  \n",
       "57793      Evelyn M. Witkin  \n",
       "17323  John Heaphy Fellowes  \n",
       "44767        George Michael  \n",
       "27941         Sied van Riel  \n",
       "298           Taryn Terrell  \n",
       "28282         Troy Mallette  \n",
       "13548        Federico Lardi  \n",
       "42200       Quentin Riggins  \n",
       "52281    Gerald Baumgartner  \n",
       "13350         Rebecca Black  \n",
       "14674   Daniel Berdichevsky  \n",
       "20628         Jeff Richmond  \n",
       "32133          Carla Gugino  \n",
       "53608            Jiří Tichý  \n",
       "24025          Alain Calmat  \n",
       "14504           Mili Avital  \n",
       "39164         Taylor Walker  \n",
       "17176            David Nail  "
      ]
     },
     "execution_count": 93,
     "metadata": {},
     "output_type": "execute_result"
    }
   ],
   "source": [
    "mat['wiki'][0][0][3]\n",
    "data = dict(\n",
    "  filename=mat['wiki'][0][0][2].squeeze(),\n",
    "  gender=mat['wiki'][0][0][3].squeeze(),\n",
    "  name=mat['wiki'][0][0][4].squeeze(),\n",
    "  birth_year=mat['wiki'][0][0][1].squeeze()\n",
    ")\n",
    "df = pd.DataFrame(data)\n",
    "df[['filename']] = df[['filename']].applymap(\n",
    "  lambda x: x[0])\n",
    "df[['name']] = df[['name']].applymap(\n",
    "  lambda x: x[0] if x.size == 1 else '')\n",
    "df.sample(20)"
   ]
  },
  {
   "cell_type": "code",
   "execution_count": 94,
   "metadata": {
    "ExecuteTime": {
     "end_time": "2018-10-23T22:41:44.257597Z",
     "start_time": "2018-10-23T22:41:44.249427Z"
    }
   },
   "outputs": [
    {
     "data": {
      "text/plain": [
       "array([[723671, 703186, 711677, ..., 720620, 723893, 713846]], dtype=int32)"
      ]
     },
     "execution_count": 94,
     "metadata": {},
     "output_type": "execute_result"
    }
   ],
   "source": [
    "mat['wiki'][0][0][0]"
   ]
  },
  {
   "cell_type": "code",
   "execution_count": null,
   "metadata": {
    "collapsed": true
   },
   "outputs": [],
   "source": []
  }
 ],
 "metadata": {
  "kernelspec": {
   "display_name": "Python-3.6",
   "language": "python",
   "name": "python-3.6"
  },
  "language_info": {
   "codemirror_mode": {
    "name": "ipython",
    "version": 3
   },
   "file_extension": ".py",
   "mimetype": "text/x-python",
   "name": "python",
   "nbconvert_exporter": "python",
   "pygments_lexer": "ipython3",
   "version": "3.6.3"
  },
  "varInspector": {
   "cols": {
    "lenName": 16,
    "lenType": 16,
    "lenVar": 40
   },
   "kernels_config": {
    "python": {
     "delete_cmd_postfix": "",
     "delete_cmd_prefix": "del ",
     "library": "var_list.py",
     "varRefreshCmd": "print(var_dic_list())"
    },
    "r": {
     "delete_cmd_postfix": ") ",
     "delete_cmd_prefix": "rm(",
     "library": "var_list.r",
     "varRefreshCmd": "cat(var_dic_list()) "
    }
   },
   "types_to_exclude": [
    "module",
    "function",
    "builtin_function_or_method",
    "instance",
    "_Feature"
   ],
   "window_display": false
  }
 },
 "nbformat": 4,
 "nbformat_minor": 2
}
